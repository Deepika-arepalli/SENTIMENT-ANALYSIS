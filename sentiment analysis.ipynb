from sklearn.model_selection import train_test_split
from sklearn.feature_extraction.text import TfidfVectorizer
from sklearn.linear_model import LogisticRegression
from sklearn.metrics import classification_report

# Sample data (you can replace with your own reviews/tweets)
texts = [
    "I love this product", 
    "This is terrible", 
    "Absolutely fantastic service",
    "Not good at all", 
    "It was okay, nothing special",
    "Worst experience ever", 
    "I am very happy", 
    "I hate it", 
    "Really great work", 
    "Pretty bad"
]
labels = [
    "positive", "negative", "positive", 
    "negative", "neutral", "negative", 
    "positive", "negative", "positive", "negative"
]

# Preprocess & split
X_train, X_test, y_train, y_test = train_test_split(texts, labels, test_size=0.3, random_state=42)

# Vectorize + Model
vectorizer = TfidfVectorizer()
X_train_vec = vectorizer.fit_transform(X_train)
X_test_vec = vectorizer.transform(X_test)
model = LogisticRegression()
model.fit(X_train_vec, y_train)

# Predictions
y_pred = model.predict(X_test_vec)

# Results
print("Classification Report:\n", classification_report(y_test, y_pred))
